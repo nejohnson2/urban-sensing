{
 "cells": [
  {
   "cell_type": "markdown",
   "metadata": {
    "slideshow": {
     "slide_type": "slide"
    }
   },
   "source": [
    "# Semiconductors\n",
    "-----------------\n",
    "\n",
    "-----------------\n",
    "\n",
    "#### A semiconductor has conducitivity between that of a conductor and an insulator."
   ]
  },
  {
   "cell_type": "markdown",
   "metadata": {
    "slideshow": {
     "slide_type": "notes"
    }
   },
   "source": [
    "* So once we understand the simple passive components like resistors and capacitors, we move to the world of semiconductors. \n",
    "* A semi-conductor, as the name suggests has its conductivity between that of a conductor like aluminium, copper etc and insulators like glass.\n",
    "* The understanding of a semiconductor and its properties relies on quantum physics to explain the motion of electrons and holes in a crystal lattice\n",
    "* A semiconductor requires an unique arrangement of atoms for it be a suitable candidate for a semiconductor. Lets look at the energy band..\n"
   ]
  },
  {
   "cell_type": "markdown",
   "metadata": {
    "slideshow": {
     "slide_type": "fragment"
    }
   },
   "source": [
    "-----------------\n",
    "\n",
    "-----------------\n",
    "\n",
    "<img src=\"files/semiconductor.png\" alt=\"Diode\" align=\"center\" style=\"height: 350px\"/><br />"
   ]
  },
  {
   "cell_type": "markdown",
   "metadata": {
    "slideshow": {
     "slide_type": "notes"
    }
   },
   "source": [
    "* The unique arrangement of atoms that produces such a energy band is shown by elements like Silicon, Germanium, Zinc and few others.\n",
    "* Electrical conductivity of a semiconductor increases with temperature (opposite of conductor)\n",
    "* The electrical properties of a semiconductor material can be modified by controlled addition of impurities, or by the application of electrical fields or light"
   ]
  },
  {
   "cell_type": "markdown",
   "metadata": {
    "slideshow": {
     "slide_type": "subslide"
    }
   },
   "source": [
    "## Types of Semiconductors \n",
    "------------------------------------\n",
    "\n",
    "------------------------------------\n",
    "#### N Type: Doped with element which has more number of electrons than the semiconductor element (creating extra electrons)\n",
    "\n",
    "\n",
    "#### P Type: Doped with element which has less number of electrons than the semiconductor element (creating extra holes)"
   ]
  },
  {
   "cell_type": "markdown",
   "metadata": {
    "slideshow": {
     "slide_type": "notes"
    }
   },
   "source": [
    "* As per the theory of semiconductors, impure semiconductors are called extrinsic semiconductors and we will be dealing mostly with impure semiconductors.\n",
    "* Depending on the type of impurity added we have two types of semiconductors: N - type and P-type semiconductors.\n",
    "\n",
    "    (If interested)\n",
    "    * Talk about covalent bond of silicon and how adding impurity (N type: Antimony, P type: Boron) helps in changing the fermi band level"
   ]
  },
  {
   "cell_type": "markdown",
   "metadata": {
    "slideshow": {
     "slide_type": "slide"
    }
   },
   "source": [
    "# Diodes\n",
    "-----------------\n",
    "\n",
    "-----------------\n",
    "\n",
    "#### A Diode is a passive two terminal component, with a primary function to allow the flow of current in one direction only.\n",
    "-----------------\n",
    "\n",
    "-----------------\n",
    "\n",
    "<img src=\"files/diode.png\" alt=\"Diode\" align=\"center\" style=\"height: 200px\"/><br />"
   ]
  },
  {
   "cell_type": "markdown",
   "metadata": {
    "slideshow": {
     "slide_type": "notes"
    }
   },
   "source": [
    "* Combining the P-type semiconductor and N-type semiconductor gives us another basic electrical device known as a Diode.\n",
    "* The key function of an ideal diode is to control the direction of current-flow called the forward direction."
   ]
  },
  {
   "cell_type": "markdown",
   "metadata": {
    "slideshow": {
     "slide_type": "subslide"
    }
   },
   "source": [
    "## Working of Diodes\n",
    "---------------------------\n",
    "\n",
    "---------------------------\n",
    "####Diffusion:\n",
    "\n",
    "<img src=\"files/diode_diffusion.gif\" alt=\"Diode_Diffusion\" align=\"center\" style=\"height: 350px\"/><br />"
   ]
  },
  {
   "cell_type": "markdown",
   "metadata": {
    "slideshow": {
     "slide_type": "notes"
    }
   },
   "source": [
    "* The n type semiconductor has higher concentration of electrons compared to holes and the p type semiconductor has higher concentration of holes.\n",
    "* Due to this a process called diffusion takes place. In this process free electrons from the n side will diffuse (spread) into the p side and combine with holes present there, leaving a positive immobile (not moveable) ion in the n side. \n",
    "* Hence few atoms on the p side are converted into negative ions. Similarly few atoms on the n-side will get converted to positive ions.\n",
    "* Due to the presence of these positive and negative ions a static electric field called as \"barrier potential\" is created across the p-n junction of the diode which is called as \"barrier potential\"."
   ]
  },
  {
   "cell_type": "markdown",
   "metadata": {
    "slideshow": {
     "slide_type": "subslide"
    }
   },
   "source": [
    "####Forward-Bias: \n",
    "\n",
    "<img src=\"files/diode_working.gif\" alt=\"Diode_Working\" align=\"center\" style=\"height: 350px\"/><br />"
   ]
  },
  {
   "cell_type": "markdown",
   "metadata": {
    "slideshow": {
     "slide_type": "notes"
    }
   },
   "source": [
    "* Due to the negative terminal on the n-side, electrons from the n-side are pushed towards the p-region and vice versa on the p-side.\n",
    "* This keeps happening and at a certain point the depletion region collapses and there is no opposition to the flow of current.\n",
    "\n",
    "### So what happens in Reverse Bias?\n",
    "* When the diode is reverse biased the hole from the p-side will get attracted towards the negative terminal of the supply and electrons from the n-side are attracted towards the positive terminal.\n",
    "* Hence the process of widening of the depletion region takes place and hence more and more opposition to the flow of current takes place."
   ]
  },
  {
   "cell_type": "markdown",
   "metadata": {
    "slideshow": {
     "slide_type": "subslide"
    }
   },
   "source": [
    "## Types of Diodes\n",
    "---------------------------\n",
    "\n",
    "---------------------------\n",
    "<img src=\"files/typesDiodes.jpg\" alt=\"Types of Diodes\" align=\"center\" style=\"height: 400px\"/><br />"
   ]
  },
  {
   "cell_type": "markdown",
   "metadata": {
    "slideshow": {
     "slide_type": "subslide"
    }
   },
   "source": [
    "## Generic Diode\n",
    "----------------------\n",
    "\n",
    "----------------------\n",
    "#### Standard signal diodes are among the most basic, average, no-frills members of the diode family\n",
    "<img src=\"files/1n4148.jpg\" alt=\"Signal Diode\" align=\"left\" style=\"height: 250px\"/><br />\n",
    "<img src=\"files/generic_diode.png\" alt=\"Signal Diode Symbol\" align=\"right\" style=\"height: 150px\"/><br />\n",
    "<img src=\"files/1n4001.jpg\" alt=\"Power Diode\" align=\"center\" style=\"height: 250px\"/><br />"
   ]
  },
  {
   "cell_type": "markdown",
   "metadata": {
    "slideshow": {
     "slide_type": "notes"
    }
   },
   "source": [
    "* They usually have a medium-high forward voltage drop and a low maximum current rating of ~300mA\n",
    "* A common example of a signal diode is the 1N4148\n",
    "* A rectifier or power diode is a standard diode with a much higher maximum current rating of about 1A but this comes at an expense of higher forward voltage drop (1.1V)"
   ]
  },
  {
   "cell_type": "markdown",
   "metadata": {
    "slideshow": {
     "slide_type": "subslide"
    }
   },
   "source": [
    "## LED (Light Emitting Diode)\n",
    "-------------------------------------\n",
    "\n",
    "-------------------------------------\n",
    "#### Light emitting diodes.. They glow!\n",
    "\n",
    "<img src=\"files/led.jpg\" alt=\"LED\" align=\"center\" style=\"height: 250px\"/><br />"
   ]
  },
  {
   "cell_type": "markdown",
   "metadata": {
    "slideshow": {
     "slide_type": "notes"
    }
   },
   "source": [
    "* These are the flashiest member of the Diode family.\n",
    "* They’re blinky and fun! But more than that, their high-efficiency has lead to widespread use in street lights, displays, backlighting, and much more.\n",
    "* Like normal diodes, LEDs only allow current through one direction. They also have a forward voltage rating, which is the voltage required for them to light up."
   ]
  },
  {
   "cell_type": "markdown",
   "metadata": {
    "slideshow": {
     "slide_type": "subslide"
    }
   },
   "source": [
    "## Photodiode\n",
    "------------------\n",
    "\n",
    "------------------\n",
    "\n",
    "#### The Anti-LED! Photodiodes are specially constructed diodes, which capture energy from photons of light\n",
    "<img src=\"files/photodiode_symbol.png\" alt=\"Photodiode_Symbol\" align=\"left\" style=\"height: 250px\"/><br />\n",
    "<img src=\"files/photodiode.jpg\" alt=\"Photodiode\" align=\"center\" style=\"height: 250px\"/><br />"
   ]
  },
  {
   "cell_type": "markdown",
   "metadata": {
    "slideshow": {
     "slide_type": "notes"
    }
   },
   "source": [
    "* These are the Anti-Led.. Can anyone think how it works?\n",
    "* when a light photon enters the intrinsic region it can strike an atom in the crystal lattice and dislodge an electron. In this way a hole-electron pair is generated.\n",
    "\n",
    "####Difference between Photodiode and LDR?\n",
    "* More sensitive\n",
    "* Produces large light to current ratio. It amplifies the current. \n",
    "* LDR works opposite.. It is passive.\n",
    "\n",
    "#### Just give info about Schottky and Zener diodes\n",
    "##### Schottky\n",
    "* The semiconductor composition of a Schottky diode is slightly different from a normal diode, and this results in a much smaller forward voltage drop.\n",
    "* They’ll still have a very large breakdown voltage though.\n",
    "\n",
    "##### Zener\n",
    "* They’re usually used to intentionally conduct reverse current. \n",
    "* Zener’s are designed to have a very precise breakdown voltage, called the zener breakdown or zener voltage.\n",
    "* They can be used as a voltage regulator for small loads."
   ]
  },
  {
   "cell_type": "markdown",
   "metadata": {
    "slideshow": {
     "slide_type": "slide"
    }
   },
   "source": [
    "## Rectifier\n",
    "------------------\n",
    "\n",
    "------------------\n",
    "* A rectifier is a circuit that converts alternating current (AC) to direct current (DC).\n",
    "<img src=\"files/rectifier.gif\" alt=\"Rectifier\" align=\"center\" style=\"height: 250px\"/><br />"
   ]
  },
  {
   "cell_type": "markdown",
   "metadata": {
    "slideshow": {
     "slide_type": "notes"
    }
   },
   "source": [
    "* Current in AC circuits literally alternates – quickly switches between running in the positive and negative directions – but current in a DC signal only runs in one direction.\n",
    "* A half-wave rectifier can be made out of just a single diode. (Explain to them if interested).\n",
    "* Explain about working of full wave rectifier (if they're interested)."
   ]
  },
  {
   "cell_type": "markdown",
   "metadata": {
    "slideshow": {
     "slide_type": "slide"
    }
   },
   "source": [
    "<img src=\"files/the_end.gif\" alt=\"The End\" align=\"center\" style=\"height: 450px\"/><br />"
   ]
  }
 ],
 "metadata": {
  "celltoolbar": "Slideshow",
  "kernelspec": {
   "display_name": "Python 2",
   "language": "python",
   "name": "python2"
  },
  "language_info": {
   "codemirror_mode": {
    "name": "ipython",
    "version": 2
   },
   "file_extension": ".py",
   "mimetype": "text/x-python",
   "name": "python",
   "nbconvert_exporter": "python",
   "pygments_lexer": "ipython2",
   "version": "2.7.6"
  }
 },
 "nbformat": 4,
 "nbformat_minor": 0
}
