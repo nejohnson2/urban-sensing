{
 "cells": [
  {
   "cell_type": "markdown",
   "metadata": {
    "slideshow": {
     "slide_type": "slide"
    }
   },
   "source": [
    "# Introduction and History"
   ]
  },
  {
   "cell_type": "markdown",
   "metadata": {
    "slideshow": {
     "slide_type": "subslide"
    }
   },
   "source": [
    "## Where it all began.."
   ]
  },
  {
   "cell_type": "markdown",
   "metadata": {
    "slideshow": {
     "slide_type": "fragment"
    }
   },
   "source": [
    "* Thomas Edison's New year eve party in 1880.<img src=\"files/menlo_park.jpg\" alt=\"Menlo Park\" align=\"right\" style=\"width: 200px;\"/>\n"
   ]
  },
  {
   "cell_type": "markdown",
   "metadata": {
    "slideshow": {
     "slide_type": "notes"
    }
   },
   "source": [
    "* It all began on September 15, 1878 when a group of New Yorker reporters traveled to Thomas Edison's laboratory in Menlo Park, NJ.\n",
    "* 'When I am through, only the rich will be able to afford candles' said the wizard of Menlo Park.\n",
    "* JP Morgan was among the first backers who hastily provided capital"
   ]
  },
  {
   "cell_type": "markdown",
   "metadata": {
    "slideshow": {
     "slide_type": "fragment"
    }
   },
   "source": [
    "* The first main power station to go online and feed power to street lights and houses was in **`New York`**.<img src=\"files/PearlStreetStation.jpg\" alt=\"PearlStreetStation\" align=\"right\" style=\"width: 200px; height: 200px\"/> "
   ]
  },
  {
   "cell_type": "markdown",
   "metadata": {
    "slideshow": {
     "slide_type": "notes"
    }
   },
   "source": [
    "* In 1882, the first main power station went online feeding electricity to some of the wealthiest and initial backers and their street lights.. about 400 electric bulbs "
   ]
  },
  {
   "cell_type": "markdown",
   "metadata": {
    "slideshow": {
     "slide_type": "slide"
    }
   },
   "source": [
    "# What is Electricity ?\n",
    "-----------------\n",
    "\n",
    "-----------------\n",
    "\n",
    "#### Electricity is the set of physical (Electrical) phenomena associated with the presence and flow of electric charge\n",
    "[]()<p style='text-align: right;'>Wikipedia</p>"
   ]
  },
  {
   "cell_type": "markdown",
   "metadata": {
    "slideshow": {
     "slide_type": "subslide"
    }
   },
   "source": [
    "## Electric Charge\n",
    "--------------\n",
    "\n",
    "--------------\n",
    "####What is an Electric Charge?\n",
    "* It's the stuff that causes electrical phenomena. \n",
    "\n",
    "--------------\n"
   ]
  },
  {
   "cell_type": "markdown",
   "metadata": {
    "slideshow": {
     "slide_type": "fragment"
    }
   },
   "source": [
    "####What are electrical phenomena? <img src=\"files/circular.gif\" alt=\"Circular Reasoning\" align=\"right\" style=\"width: 300px; height: 300px\"/>\n",
    "* Those are the things caused by charge! \n",
    "\n",
    "--------------\n",
    "Simple, no?"
   ]
  },
  {
   "cell_type": "markdown",
   "metadata": {
    "slideshow": {
     "slide_type": "notes"
    }
   },
   "source": [
    "* There is a good reason why the definition of \"charge\" is circular.<br /> \n",
    "* Like mass, length, and time, Electric Charge is a \"fundamental.\" For example Time is defined as a point of time as measured in hours and minutes past midnight or noon.<br />\n",
    "* Many dictionaries say this: \"Electric charge: a fundamental property of matter.\" <br />\n",
    "* The word \"Charge\" is used to define other things, and therefore the definition of the word \"charge\" becomes a serious problem!<br /> \n",
    "* What is an electric current? It is a flow of charge. <br /> \n",
    "* What is electric charge? It is the stuff that flows during an electric current!<br />"
   ]
  },
  {
   "cell_type": "markdown",
   "metadata": {
    "slideshow": {
     "slide_type": "subslide"
    }
   },
   "source": [
    "###So What is an Electric Charge?\n"
   ]
  },
  {
   "cell_type": "markdown",
   "metadata": {
    "slideshow": {
     "slide_type": "subslide"
    }
   },
   "source": [
    "*    ...the stuff that flows during an electric current.<img src=\"files/current.gif\" alt=\"Current Flow\" align=\"center\" style=\"height: 300px\"/><br />\n"
   ]
  },
  {
   "cell_type": "markdown",
   "metadata": {
    "slideshow": {
     "slide_type": "notes"
    }
   },
   "source": [
    "* The red \"stuff\" that you see going from positive terminal to negative terminal is the Charge!"
   ]
  },
  {
   "cell_type": "markdown",
   "metadata": {
    "slideshow": {
     "slide_type": "subslide"
    }
   },
   "source": [
    "*    ...the stuff that appears on a balloon when you rub it on your hair.<img src=\"files/static.jpg\" alt=\"Static\" align=\"center\" style=\"height: 300px\"/><br />\n"
   ]
  },
  {
   "cell_type": "markdown",
   "metadata": {
    "slideshow": {
     "slide_type": "notes"
    }
   },
   "source": [
    "* < If people are Interested \\> <br />\n",
    "    Ask them: 1. Why Static Electricity does not kill you but current electricity of same potential might?"
   ]
  },
  {
   "cell_type": "markdown",
   "metadata": {
    "slideshow": {
     "slide_type": "subslide"
    }
   },
   "source": [
    "*    ...the stuff that comes in two kinds: positive and negative.<img src=\"files/charge.png\" alt=\"Electric charge\" align=\"center\" style=\"height: 300px\"/><br />"
   ]
  },
  {
   "cell_type": "markdown",
   "metadata": {
    "slideshow": {
     "slide_type": "notes"
    }
   },
   "source": [
    "[SHOULD I KEEP THIS???????]\n",
    "* Charge is not<br />\n",
    "    ...energy<br />\n",
    "    ...not just a property<br />\n",
    "    ...not invisible<br />"
   ]
  },
  {
   "cell_type": "markdown",
   "metadata": {
    "slideshow": {
     "slide_type": "notes"
    }
   },
   "source": [
    "[SHOULD I KEEP THIS???????]\n",
    "* A fixed quantity of charge can possess many different amounts of energy at the same time<br />\n",
    "* Not invisible? Think of an electric arc, or a spark"
   ]
  },
  {
   "cell_type": "markdown",
   "metadata": {
    "slideshow": {
     "slide_type": "subslide"
    }
   },
   "source": [
    "##Voltage (V)\n",
    "-----------------\n",
    "\n",
    "-----------------\n",
    "\n",
    "#### Potential DIfference between two points is expressed as volts (or voltage)\n",
    "\n",
    "-----------------\n",
    "\n",
    "-----------------"
   ]
  },
  {
   "cell_type": "markdown",
   "metadata": {
    "slideshow": {
     "slide_type": "fragment"
    }
   },
   "source": [
    "<img src=\"files/dc_volt.gif\" alt=\"DC Volts\" align=\"left\" style=\"height: 150px\"/>\n",
    "<img src=\"files/voltagePolarity.jpg\" alt=\"Voltage Polarity\" align=\"right\" style=\"height: 150px\"/><br />"
   ]
  },
  {
   "cell_type": "markdown",
   "metadata": {
    "slideshow": {
     "slide_type": "notes"
    }
   },
   "source": [
    "* Now we know that Charge is a fundamental property, but we need to know what is responsible for the flow of this charge and how much energy is being carried by a charge.<br />\n",
    "* This is where Voltage comes into the picture. <br />\n",
    "* Voltage is a measure of electric potential energy per unit charge measured or simply, how much is the energy per unit charge. in volts.<br />\n",
    "* Voltage is the difference in charge between the two points.<br />\n",
    "* Give the example of water flowing through a tube (Pressure in the tube) <br />\n",
    "\n"
   ]
  },
  {
   "cell_type": "markdown",
   "metadata": {
    "slideshow": {
     "slide_type": "subslide"
    }
   },
   "source": [
    "##Current (I)\n",
    "---------------\n",
    "\n",
    "---------------\n",
    "####An electric current is a flow of electric charge\n",
    "---------------\n",
    "\n",
    "---------------"
   ]
  },
  {
   "cell_type": "markdown",
   "metadata": {
    "slideshow": {
     "slide_type": "notes"
    }
   },
   "source": [
    "* So we know that we need to create a potential difference for charges to flow. But now We need some way to quantify those red dots.. basically find how many of those electric charges will flow.. <br />\n",
    "* Current tells us about the flow of charge.. how many coulombs per second is flowing. <br />\n",
    "* Give the example of water flowing through a tube (amount of water flow). <br />"
   ]
  },
  {
   "cell_type": "markdown",
   "metadata": {
    "slideshow": {
     "slide_type": "fragment"
    }
   },
   "source": [
    "<img src=\"files/1.gif\" alt=\"Electron and Current flow\" align=\"center\" style=\"height: 300px\"/><br />"
   ]
  },
  {
   "cell_type": "markdown",
   "metadata": {
    "slideshow": {
     "slide_type": "notes"
    }
   },
   "source": [
    "* Remember that electrons always flow in the opposite direction of charge because in metals it is the negatively charged electrons that carry charge! <br />\n",
    "* So basically what we see here is that voltage or potential difference is what causes the flow of current or the charge. <br />\n"
   ]
  },
  {
   "cell_type": "markdown",
   "metadata": {
    "slideshow": {
     "slide_type": "slide"
    }
   },
   "source": [
    "# Resistors (R)\n",
    "-----------------\n",
    "\n",
    "-----------------\n",
    "\n",
    "#### A Resistor is a two terminal passive electrical component with the primary function to limit the flow of current.\n",
    "-----------------\n",
    "\n",
    "-----------------\n",
    "<img src=\"files/resistor.png\" alt=\"Resistor\" align=\"center\" style=\"height: 150px\"/><br />"
   ]
  },
  {
   "cell_type": "markdown",
   "metadata": {
    "slideshow": {
     "slide_type": "notes"
    }
   },
   "source": [
    "* So basically anything that interferes with the flow of electrons in other words, anything that obstructs the flow of current or charge is known as resistance.\n",
    "* Every electrical component has certain resistivity (based on the material it is made up of)"
   ]
  },
  {
   "cell_type": "markdown",
   "metadata": {
    "slideshow": {
     "slide_type": "subslide"
    }
   },
   "source": [
    "## Resistance\n",
    "-----------------\n",
    "\n",
    "-----------------\n",
    "\n",
    "<img src=\"files/water-analogy.png\" alt=\"Water Analogy\" align=\"center\" style=\"height: 200px\"/><br />"
   ]
  },
  {
   "cell_type": "markdown",
   "metadata": {
    "slideshow": {
     "slide_type": "notes"
    }
   },
   "source": [
    "* Give the example of water flowing through a tube (narrow the tube or obstruction in flow of water )\n",
    "* We can also observe that resistance depends on the length of the conductor, cross-sectional area, and resistivity of a material.\n",
    "\n",
    "----------------------\n",
    "\n",
    "* We now get a feeling that voltage, current and resistance are somehow related to each other.. and indeed they are. The rule/ law that gives a relation between these is known as Ohm's Law"
   ]
  },
  {
   "cell_type": "code",
   "execution_count": 2,
   "metadata": {
    "collapsed": false,
    "scrolled": true,
    "slideshow": {
     "slide_type": "slide"
    }
   },
   "outputs": [
    {
     "data": {
      "text/html": [
       "<iframe src=http://123d.circuits.io/circuits/739758-ohms-law/edit width=1000 height=400></iframe>"
      ],
      "text/plain": [
       "<IPython.core.display.HTML object>"
      ]
     },
     "execution_count": 2,
     "metadata": {},
     "output_type": "execute_result"
    }
   ],
   "source": [
    "from IPython.display import HTML\n",
    "# Example\n",
    "HTML('<iframe src=http://123d.circuits.io/circuits/739758-ohms-law/edit width=1000 height=400></iframe>')"
   ]
  },
  {
   "cell_type": "markdown",
   "metadata": {
    "slideshow": {
     "slide_type": "slide"
    }
   },
   "source": [
    "## Types of Resistors\n",
    "---------------------\n",
    "\n",
    "---------------------\n",
    "\n",
    "|Fixed| Variable| Dependent on Physical Quantity|\n",
    "|:----|---------|------------------------------:|\n",
    "|<img src=\"files/fixedresistor.jpg\" alt=\"Fixed Resistor\" align=\"center\" style=\"height: 50px\"/>|<img src=\"files/potentiometer.jpg\" alt=\"Variable value Resistor\" align=\"center\" style=\"height: 50px\"/>|<img src=\"files/ldr.jpg\" alt=\"LDR\" align=\"center\" style=\"height: 50px;\"/>|\n",
    "|Value is based on Color Codes| Value is printed on the Pot| Value is theoretically between 0 and inf|\n",
    "|Example: Fixed to drop Voltage|Example: Potential Divider|Example: Sensor for measuring something|\n",
    "\n",
    "-----------------"
   ]
  },
  {
   "cell_type": "markdown",
   "metadata": {
    "slideshow": {
     "slide_type": "notes"
    }
   },
   "source": [
    "* Fixed value resistors have a permanent value and cannot be changed\n",
    "* Variable resistors or potentiometers have a variable resistance\n",
    "* Resistance can also be changed based on the physical quantity, such resistances are called \\<something> dependent resistor. For example, LDR\n",
    "\n",
    "-----------\n",
    "\n",
    "* The value of the fixed resistors is [Color coded](http://hotwirefoamcutterinfo.com/__Resistor_files/Resistor_Color_Code.png). Meaning that the resistance of the resistor is based on the color codes.\n",
    "* On a potentiometer, the minimum and maximum value is mentioned. \n",
    "* You will also observe that potentiometer has 3 terminals. We need to connect the 1st and 2nd OR 2nd and 3rd.\n",
    "* The resistance dynamically varies for a something dependent resistor based on the instensity or magnitude of that something\n",
    "\n",
    "-----------\n",
    "\n",
    "* Resistances have different construction materials, but we will mostly be using Carbon Film type or Metal Film. Metal film type resistors have higher accuracy. \n"
   ]
  },
  {
   "cell_type": "markdown",
   "metadata": {
    "slideshow": {
     "slide_type": "subslide"
    }
   },
   "source": [
    "###Reading a Resistor\n",
    "---------------\n",
    "\n",
    "---------------\n",
    "\n",
    "<img src=\"files/470Ohm_Resistor.jpg\" alt=\"Color Code\" align=\"left\" style=\"height: 200px\"/>\n",
    "<img src=\"files/5BandResistor.gif\" alt=\"Color Code\" align=\"right\" style=\"height: 300px\"/>"
   ]
  },
  {
   "cell_type": "markdown",
   "metadata": {
    "slideshow": {
     "slide_type": "slide"
    }
   },
   "source": [
    "##Ohm's Law\n",
    "----------------\n",
    "\n",
    "----------------\n",
    "#### The current flowing through the conductor is directly proportional to the potential difference accross two points (Resistance being the constant factor).\n",
    "----------------\n",
    "\n",
    "----------------\n",
    "<img src=\"files/ohmslaw.png\" alt=\"Ohms Law\" align=\"left\" style=\"height: 200px\"/>\n",
    "<img src=\"files/ohms-law.gif\" alt=\"Ohms Law gif\" align=\"center\" style=\"height: 200px\"/><br />"
   ]
  },
  {
   "cell_type": "markdown",
   "metadata": {
    "slideshow": {
     "slide_type": "notes"
    }
   },
   "source": [
    "* Ohms law is one of the most important laws that you will come accross in electronics. \n",
    "* Let's take a look at a small but very practical example"
   ]
  },
  {
   "cell_type": "markdown",
   "metadata": {
    "slideshow": {
     "slide_type": "slide"
    }
   },
   "source": [
    "# Capacitors\n",
    "-----------------\n",
    "\n",
    "-----------------\n",
    "\n",
    "#### A Capacitor is a two terminal passive component, separated by a dielectric medium, with a primary function to store electric charge. \n",
    "-----------------\n",
    "\n",
    "-----------------\n",
    "<img src=\"files/capacitor.gif\" alt=\"Resistor\" align=\"center\" style=\"height: 150px\"/><br />"
   ]
  },
  {
   "cell_type": "markdown",
   "metadata": {
    "slideshow": {
     "slide_type": "notes"
    }
   },
   "source": [
    "* What makes capacitor special is its ability to store charge. Think of it as your temporary battery.\n",
    "* Lets look at the construction of the capacitor.\n",
    "* Most capacitors can be non polarized up to about 1 microfarad"
   ]
  },
  {
   "cell_type": "markdown",
   "metadata": {
    "slideshow": {
     "slide_type": "subslide"
    }
   },
   "source": [
    "## Capacitor\n",
    "-------------------\n",
    "\n",
    "-------------------\n",
    "\n",
    "<img src=\"files/capacitor_diag.gif\" alt=\"Capacitor_diag\" align=\"center\" style=\"height: 250px\"/><br />"
   ]
  },
  {
   "cell_type": "markdown",
   "metadata": {
    "slideshow": {
     "slide_type": "notes"
    }
   },
   "source": [
    "* A capacitor is created out of two metal plates and an insulating material called a dielectric.\n",
    "* The metal plates are placed very close to each other, in parallel, but the dielectric sits between them to make sure they don’t touch\n",
    "* The dielectric can be made out of all sorts of insulating materials: paper, glass, rubber, ceramic, plastic, or anything that will impede the flow of current."
   ]
  },
  {
   "cell_type": "markdown",
   "metadata": {
    "slideshow": {
     "slide_type": "subslide"
    }
   },
   "source": [
    "## Capacitor\n",
    "------------------\n",
    "\n",
    "------------------\n",
    "Working of a capacitor:\n",
    "\n",
    "<img src=\"files/capacitor_working.gif\" alt=\"Capacitor_working\" align=\"center\" style=\"height: 350px\"/><br />"
   ]
  },
  {
   "cell_type": "markdown",
   "metadata": {
    "slideshow": {
     "slide_type": "notes"
    }
   },
   "source": [
    "* When current flows into a capacitor, the charges get “stuck” on the plates because they can’t get past the insulating dielectric. Electrons – negatively charged particles – are sucked into one of the plates, and it becomes overall negatively charged. \n",
    "* The large mass of negative charges on one plate pushes away like charges on the other plate, making it positively charged.\n",
    "* If you take off the supply to the capacitor, the capacitor is still charged and that's why it is always suggested that before opening any electrical device, you should wear rubber gloves and after disconnecting it from power source, flip its mains switch onn and off for atleast 5- 10 seconds (This is not applicable for CRT TVs.. leave them overnight!!) "
   ]
  },
  {
   "cell_type": "markdown",
   "metadata": {
    "slideshow": {
     "slide_type": "subslide"
    }
   },
   "source": [
    "## Types of Capacitors\n",
    "---------------------\n",
    "\n",
    "---------------------\n",
    "\n",
    "<img src=\"files/types_of_cap.jpg\" alt=\"Capacitor_Types\" align=\"center\" style=\"height: 400px\"/><br />"
   ]
  },
  {
   "cell_type": "markdown",
   "metadata": {
    "slideshow": {
     "slide_type": "notes"
    }
   },
   "source": [
    "* The name of different types of capacitors comes from the dielectric that they are made up of.\n",
    "* Ceraic capacitors are most commonly used and most commonly produced."
   ]
  },
  {
   "cell_type": "markdown",
   "metadata": {
    "slideshow": {
     "slide_type": "subslide"
    }
   },
   "source": [
    "## Types of Capacitors\n",
    "---------------------\n",
    "\n",
    "---------------------\n",
    "<img src=\"files/typesCaps.jpg\" alt=\"Capacitor_Types_img\" align=\"center\" style=\"height: 300px\"/><br />"
   ]
  },
  {
   "cell_type": "markdown",
   "metadata": {
    "slideshow": {
     "slide_type": "notes"
    }
   },
   "source": [
    "* Electrolytics are great because they can pack a lot of capacitance into a relatively small volume.\n",
    "* They’re especially well suited to high-voltage applications\n",
    "* Super capacitors are actually the ones that can have capacitance of more than 1F but they are not suited for high voltages. Infact the 10F capacitor is rated for 2.5V, to overcome this, or infact any other low voltage capacitor's drawback, we can apply multiple such in series"
   ]
  },
  {
   "cell_type": "markdown",
   "metadata": {
    "slideshow": {
     "slide_type": "slide"
    }
   },
   "source": []
  },
  {
   "cell_type": "markdown",
   "metadata": {
    "slideshow": {
     "slide_type": "notes"
    }
   },
   "source": []
  },
  {
   "cell_type": "markdown",
   "metadata": {},
   "source": [
    "#Series Circuit"
   ]
  },
  {
   "cell_type": "markdown",
   "metadata": {},
   "source": [
    "# Parallel Circuit"
   ]
  }
 ],
 "metadata": {
  "celltoolbar": "Slideshow",
  "kernelspec": {
   "display_name": "Python 2",
   "language": "python",
   "name": "python2"
  },
  "language_info": {
   "codemirror_mode": {
    "name": "ipython",
    "version": 2
   },
   "file_extension": ".py",
   "mimetype": "text/x-python",
   "name": "python",
   "nbconvert_exporter": "python",
   "pygments_lexer": "ipython2",
   "version": "2.7.6"
  }
 },
 "nbformat": 4,
 "nbformat_minor": 0
}
